{
 "cells": [
  {
   "cell_type": "code",
   "execution_count": 5,
   "id": "7a335d9a-6241-4686-9586-21181a71c27f",
   "metadata": {},
   "outputs": [],
   "source": [
    "# Importing libraries\n",
    "import pandas as pd\n",
    "import numpy as np\n",
    "import os\n",
    "\n",
    "\n",
    "\n"
   ]
  },
  {
   "cell_type": "markdown",
   "id": "ccee9cb3-ec9c-41e0-b258-2e537c60560b",
   "metadata": {},
   "source": [
    "## Working with Python Data Types"
   ]
  },
  {
   "cell_type": "code",
   "execution_count": 1,
   "id": "094b8608-7f40-4f55-95c8-4d055e92afd5",
   "metadata": {},
   "outputs": [
    {
     "data": {
      "text/plain": [
       "100"
      ]
     },
     "execution_count": 1,
     "metadata": {},
     "output_type": "execute_result"
    }
   ],
   "source": [
    "30+70"
   ]
  },
  {
   "cell_type": "code",
   "execution_count": 3,
   "id": "94a0fa45-7dc9-4d29-bd60-de908b9e4ab4",
   "metadata": {},
   "outputs": [
    {
     "data": {
      "text/plain": [
       "100"
      ]
     },
     "execution_count": 3,
     "metadata": {},
     "output_type": "execute_result"
    }
   ],
   "source": [
    "200-100"
   ]
  },
  {
   "cell_type": "code",
   "execution_count": 5,
   "id": "4401a3df-dfa2-4506-8b32-a473350ff90d",
   "metadata": {},
   "outputs": [
    {
     "data": {
      "text/plain": [
       "100"
      ]
     },
     "execution_count": 5,
     "metadata": {},
     "output_type": "execute_result"
    }
   ],
   "source": [
    "95+5"
   ]
  },
  {
   "cell_type": "code",
   "execution_count": 7,
   "id": "7e5d387a-241d-4b25-b0e7-9e8a6a3e68f2",
   "metadata": {},
   "outputs": [
    {
     "data": {
      "text/plain": [
       "0.746031746031746"
      ]
     },
     "execution_count": 7,
     "metadata": {},
     "output_type": "execute_result"
    }
   ],
   "source": [
    "x= 2.35\n",
    "y= 3.15\n",
    "x/y"
   ]
  },
  {
   "cell_type": "code",
   "execution_count": 19,
   "id": "00c27645-efe0-47dc-8d4f-d136d531e7fb",
   "metadata": {},
   "outputs": [
    {
     "data": {
      "text/plain": [
       "'hello world'"
      ]
     },
     "execution_count": 19,
     "metadata": {},
     "output_type": "execute_result"
    }
   ],
   "source": [
    "x='hello ' \n",
    "y='world'\n",
    "x+y"
   ]
  },
  {
   "cell_type": "code",
   "execution_count": 23,
   "id": "243d201d-4405-4ac8-9e7c-c35262f602a3",
   "metadata": {},
   "outputs": [
    {
     "data": {
      "text/plain": [
       "'I am learning Data Analytics because it is interesting'"
      ]
     },
     "execution_count": 23,
     "metadata": {},
     "output_type": "execute_result"
    }
   ],
   "source": [
    "n= 'I am learning Data Analytics'\n",
    "m= ' because it is interesting'\n",
    "n+m"
   ]
  },
  {
   "cell_type": "code",
   "execution_count": null,
   "id": "a71e4cba-43e6-4159-a468-3a2e0c54a8c1",
   "metadata": {},
   "outputs": [],
   "source": []
  }
 ],
 "metadata": {
  "kernelspec": {
   "display_name": "Python 3 (ipykernel)",
   "language": "python",
   "name": "python3"
  },
  "language_info": {
   "codemirror_mode": {
    "name": "ipython",
    "version": 3
   },
   "file_extension": ".py",
   "mimetype": "text/x-python",
   "name": "python",
   "nbconvert_exporter": "python",
   "pygments_lexer": "ipython3",
   "version": "3.11.7"
  }
 },
 "nbformat": 4,
 "nbformat_minor": 5
}
